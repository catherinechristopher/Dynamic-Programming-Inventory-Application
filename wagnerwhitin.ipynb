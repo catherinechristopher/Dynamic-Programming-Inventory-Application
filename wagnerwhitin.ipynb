{
 "cells": [
  {
   "cell_type": "markdown",
   "metadata": {},
   "source": [
    "# Wagner Whiten Model\n",
    "## Catherine Christopher"
   ]
  },
  {
   "cell_type": "code",
   "execution_count": 5,
   "metadata": {},
   "outputs": [],
   "source": [
    "import pandas as pd\n",
    "import numpy as np"
   ]
  },
  {
   "cell_type": "code",
   "execution_count": 6,
   "metadata": {},
   "outputs": [],
   "source": [
    "K = 80\n",
    "h = 1.75\n",
    "\n",
    "demandlist = [36, 60, 85, 11, 39, 75]\n",
    "\n",
    "tempDict = {'Period':np.arange(1,len(demandlist)+1),\n",
    "            'Demand':demandlist}    \n",
    "demanddf = pd.DataFrame(tempDict)\n",
    "demanddf = demanddf.set_index('Period')"
   ]
  },
  {
   "cell_type": "code",
   "execution_count": 7,
   "metadata": {},
   "outputs": [],
   "source": [
    "def findcost(t,j,K,h,demanddf,repeatdf):\n",
    "    cost = 0\n",
    "    tj = t + j\n",
    "    \n",
    "    for k in np.arange(1,j+1):\n",
    "        t1k = t - 1 + k\n",
    "        periodcost = ((2*k - 1)*demanddf.loc[t1k,'Demand'])/2\n",
    "        cost += periodcost\n",
    "    v_t = K + h*cost\n",
    "    if tj != len(demanddf)+1:\n",
    "        v_t += repeatlist[len(demanddf) - tj][2]\n",
    "    return v_t"
   ]
  },
  {
   "cell_type": "code",
   "execution_count": 8,
   "metadata": {},
   "outputs": [
    {
     "name": "stdout",
     "output_type": "stream",
     "text": [
      "        Periods Covered  Order Quantity\n",
      "Period                                 \n",
      "1                   1.0              36\n",
      "2                   1.0              60\n",
      "3                   2.0              96\n",
      "4                   0.0               0\n",
      "5                   1.0              39\n",
      "6                   1.0              75\n"
     ]
    }
   ],
   "source": [
    "repeatlist = []\n",
    "for t in demanddf.index[::-1]:\n",
    "    steps = np.arange(1,len(demanddf.index) + 2 - t )\n",
    "    tempDict = {}\n",
    "    for j in steps:\n",
    "        v_t = findcost(t, j, K, h, demanddf, repeatlist)\n",
    "        tempDict[v_t] = j\n",
    "    V_t = min(list(tempDict.keys()))\n",
    "    repeatlist.append([t, tempDict[V_t], V_t, False])\n",
    "repeatdf = pd.DataFrame(repeatlist, columns = ['t','j*_t','V_t','truefalse'])\n",
    "repeatdf = repeatdf.set_index('t').sort_index()   \n",
    "totalcost = repeatdf.loc[1,'V_t']\n",
    "\n",
    "solutionlist = []\n",
    "for t in demanddf.index:\n",
    "    if repeatdf.loc[t,'truefalse']:\n",
    "        solutionlist.append([t, 0, 0])\n",
    "    else:\n",
    "        j = repeatdf.loc[t,'j*_t']\n",
    "        orderSize = demanddf.loc[t: t - 1 + j,'Demand'].sum()\n",
    "        solutionlist.append([t, j, orderSize])\n",
    "        for i in range(int(t - 1),int(t + j)):\n",
    "            repeatdf.loc[i,'truefalse'] = True\n",
    "        \n",
    "solutiondf = pd.DataFrame(solutionlist, columns = ['Period', 'Periods Covered', 'Order Quantity'])\n",
    "solutiondf = solutiondf.set_index('Period')\n",
    "\n",
    "print(solutiondf)"
   ]
  },
  {
   "cell_type": "code",
   "execution_count": null,
   "metadata": {},
   "outputs": [],
   "source": []
  },
  {
   "cell_type": "code",
   "execution_count": null,
   "metadata": {},
   "outputs": [],
   "source": []
  }
 ],
 "metadata": {
  "kernelspec": {
   "display_name": "Python 3",
   "language": "python",
   "name": "python3"
  },
  "language_info": {
   "codemirror_mode": {
    "name": "ipython",
    "version": 3
   },
   "file_extension": ".py",
   "mimetype": "text/x-python",
   "name": "python",
   "nbconvert_exporter": "python",
   "pygments_lexer": "ipython3",
   "version": "3.7.1"
  }
 },
 "nbformat": 4,
 "nbformat_minor": 2
}
